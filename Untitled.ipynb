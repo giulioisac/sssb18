{
 "cells": [
  {
   "cell_type": "code",
   "execution_count": 2,
   "metadata": {},
   "outputs": [],
   "source": [
    "import dolfin "
   ]
  },
  {
   "cell_type": "code",
   "execution_count": 6,
   "metadata": {},
   "outputs": [
    {
     "name": "stdout",
     "output_type": "stream",
     "text": [
      "  Calling FFC just-in-time (JIT) compiler, this may take some time.\n"
     ]
    },
    {
     "ename": "RuntimeError",
     "evalue": "\n\n*** -------------------------------------------------------------------------\n*** DOLFIN encountered an error. If you are not able to resolve this issue\n*** using the information listed below, you can ask for help at\n***\n***     fenics-support@googlegroups.com\n***\n*** Remember to include the error message listed below and, if possible,\n*** include a *minimal* running example to reproduce the error.\n***\n*** -------------------------------------------------------------------------\n*** Error:   Unable to perform just-in-time compilation of form.\n*** Reason:  ffc.jit failed with message:\nTraceback (most recent call last):\n  File \"/home/giulio/anaconda2/envs/matrix/lib/python2.7/site-packages/dolfin/compilemodules/jit.py\", line 142, in jit\n    result = ffc.jit(ufl_object, parameters=p)\n  File \"/home/giulio/anaconda2/envs/matrix/lib/python2.7/site-packages/ffc/jitcompiler.py\", line 218, in jit\n    module = jit_build(ufl_object, module_name, parameters)\n  File \"/home/giulio/anaconda2/envs/matrix/lib/python2.7/site-packages/ffc/jitcompiler.py\", line 134, in jit_build\n    generate=jit_generate)\n  File \"/home/giulio/anaconda2/envs/matrix/lib/python2.7/site-packages/dijitso/jit.py\", line 167, in jit\n    header, source, dependencies = generate(jitable, name, signature, params[\"generator\"])\n  File \"/home/giulio/anaconda2/envs/matrix/lib/python2.7/site-packages/ffc/jitcompiler.py\", line 67, in jit_generate\n    prefix=module_name, parameters=parameters, jit=True)\n  File \"/home/giulio/anaconda2/envs/matrix/lib/python2.7/site-packages/ffc/compiler.py\", line 150, in compile_element\n    prefix, parameters, jit)\n  File \"/home/giulio/anaconda2/envs/matrix/lib/python2.7/site-packages/ffc/compiler.py\", line 190, in compile_ufl_objects\n    ir = compute_ir(analysis, prefix, parameters, jit)\n  File \"/home/giulio/anaconda2/envs/matrix/lib/python2.7/site-packages/ffc/representation.py\", line 171, in compute_ir\n    for e in elements]\n  File \"/home/giulio/anaconda2/envs/matrix/lib/python2.7/site-packages/ffc/representation.py\", line 203, in _compute_element_ir\n    fiat_element = create_element(ufl_element)\n  File \"/home/giulio/anaconda2/envs/matrix/lib/python2.7/site-packages/ffc/fiatinterface.py\", line 99, in create_element\n    element = _create_fiat_element(ufl_element)\n  File \"/home/giulio/anaconda2/envs/matrix/lib/python2.7/site-packages/ffc/fiatinterface.py\", line 196, in _create_fiat_element\n    element = ElementClass(fiat_cell, degree)\n  File \"/home/giulio/anaconda2/envs/matrix/lib/python2.7/site-packages/FIAT/lagrange.py\", line 56, in __init__\n    poly_set = polynomial_set.ONPolynomialSet(ref_el, degree)\n  File \"/home/giulio/anaconda2/envs/matrix/lib/python2.7/site-packages/FIAT/polynomial_set.py\", line 176, in __init__\n    dv = expansion_set.tabulate_derivatives(degree, pts)\n  File \"/home/giulio/anaconda2/envs/matrix/lib/python2.7/site-packages/FIAT/expansions.py\", line 262, in tabulate_derivatives\n    data = _tabulate_dpts(self._tabulate, 2, n, order, numpy.array(pts))\n  File \"/home/giulio/anaconda2/envs/matrix/lib/python2.7/site-packages/FIAT/expansions.py\", line 104, in _tabulate_dpts\n    phi.append(form_derivative(phi[-1]))\n  File \"/home/giulio/anaconda2/envs/matrix/lib/python2.7/site-packages/FIAT/expansions.py\", line 50, in form_derivative\n    out = [sympy.diff(F, X[j]) for j in range(D)]\n  File \"/home/giulio/anaconda2/envs/matrix/lib/python2.7/site-packages/sympy/core/function.py\", line 1993, in diff\n    return Derivative(f, *symbols, **kwargs)\n  File \"/home/giulio/anaconda2/envs/matrix/lib/python2.7/site-packages/sympy/core/function.py\", line 1117, in __new__\n    it cannot be differentiated.'''  1.577552e-320xpr))\nValueError: \nSince there are no variables in the expression [0, 0], it cannot be\ndifferentiated.\n.\n*** Where:   This error was encountered inside jit.py.\n*** Process: 0\n*** \n*** DOLFIN version: 2017.2.0\n*** Git changeset:  774aa9b05f5a21fcf3d1bd632e722933a05fdb45\n*** -------------------------------------------------------------------------\n",
     "output_type": "error",
     "traceback": [
      "\u001b[0;31m---------------------------------------------------------------------------\u001b[0m",
      "\u001b[0;31mRuntimeError\u001b[0m                              Traceback (most recent call last)",
      "\u001b[0;32m<ipython-input-6-e83e9678fb6b>\u001b[0m in \u001b[0;36m<module>\u001b[0;34m()\u001b[0m\n\u001b[1;32m      1\u001b[0m \u001b[0;31m# Create mesh and define function space\u001b[0m\u001b[0;34m\u001b[0m\u001b[0;34m\u001b[0m\u001b[0m\n\u001b[1;32m      2\u001b[0m \u001b[0mmesh\u001b[0m \u001b[0;34m=\u001b[0m \u001b[0mUnitSquareMesh\u001b[0m\u001b[0;34m(\u001b[0m\u001b[0;36m8\u001b[0m\u001b[0;34m,\u001b[0m \u001b[0;36m8\u001b[0m\u001b[0;34m)\u001b[0m\u001b[0;34m\u001b[0m\u001b[0m\n\u001b[0;32m----> 3\u001b[0;31m \u001b[0mV\u001b[0m \u001b[0;34m=\u001b[0m \u001b[0mFunctionSpace\u001b[0m\u001b[0;34m(\u001b[0m\u001b[0mmesh\u001b[0m\u001b[0;34m,\u001b[0m \u001b[0;34m\"Lagrange\"\u001b[0m\u001b[0;34m,\u001b[0m \u001b[0;36m1\u001b[0m\u001b[0;34m)\u001b[0m\u001b[0;34m\u001b[0m\u001b[0m\n\u001b[0m\u001b[1;32m      4\u001b[0m \u001b[0;34m\u001b[0m\u001b[0m\n\u001b[1;32m      5\u001b[0m \u001b[0;31m# Define boundary condition\u001b[0m\u001b[0;34m\u001b[0m\u001b[0;34m\u001b[0m\u001b[0m\n",
      "\u001b[0;32m/home/giulio/anaconda2/envs/matrix/lib/python2.7/site-packages/dolfin/functions/functionspace.pyc\u001b[0m in \u001b[0;36m__init__\u001b[0;34m(self, *args, **kwargs)\u001b[0m\n\u001b[1;32m    197\u001b[0m                 \u001b[0mself\u001b[0m\u001b[0;34m.\u001b[0m\u001b[0m_init_from_ufl\u001b[0m\u001b[0;34m(\u001b[0m\u001b[0;34m*\u001b[0m\u001b[0margs\u001b[0m\u001b[0;34m,\u001b[0m \u001b[0;34m**\u001b[0m\u001b[0mkwargs\u001b[0m\u001b[0;34m)\u001b[0m\u001b[0;34m\u001b[0m\u001b[0m\n\u001b[1;32m    198\u001b[0m             \u001b[0;32melse\u001b[0m\u001b[0;34m:\u001b[0m\u001b[0;34m\u001b[0m\u001b[0m\n\u001b[0;32m--> 199\u001b[0;31m                 \u001b[0mself\u001b[0m\u001b[0;34m.\u001b[0m\u001b[0m_init_convenience\u001b[0m\u001b[0;34m(\u001b[0m\u001b[0;34m*\u001b[0m\u001b[0margs\u001b[0m\u001b[0;34m,\u001b[0m \u001b[0;34m**\u001b[0m\u001b[0mkwargs\u001b[0m\u001b[0;34m)\u001b[0m\u001b[0;34m\u001b[0m\u001b[0m\n\u001b[0m\u001b[1;32m    200\u001b[0m \u001b[0;34m\u001b[0m\u001b[0m\n\u001b[1;32m    201\u001b[0m     \u001b[0;32mdef\u001b[0m \u001b[0m_init_from_ufl\u001b[0m\u001b[0;34m(\u001b[0m\u001b[0mself\u001b[0m\u001b[0;34m,\u001b[0m \u001b[0mmesh\u001b[0m\u001b[0;34m,\u001b[0m \u001b[0melement\u001b[0m\u001b[0;34m,\u001b[0m \u001b[0mconstrained_domain\u001b[0m\u001b[0;34m=\u001b[0m\u001b[0mNone\u001b[0m\u001b[0;34m)\u001b[0m\u001b[0;34m:\u001b[0m\u001b[0;34m\u001b[0m\u001b[0m\n",
      "\u001b[0;32m/home/giulio/anaconda2/envs/matrix/lib/python2.7/site-packages/dolfin/functions/functionspace.pyc\u001b[0m in \u001b[0;36m_init_convenience\u001b[0;34m(self, mesh, family, degree, form_degree, constrained_domain, restriction)\u001b[0m\n\u001b[1;32m    247\u001b[0m \u001b[0;34m\u001b[0m\u001b[0m\n\u001b[1;32m    248\u001b[0m         self._init_from_ufl(mesh, element,\n\u001b[0;32m--> 249\u001b[0;31m                             constrained_domain=constrained_domain)\n\u001b[0m\u001b[1;32m    250\u001b[0m \u001b[0;34m\u001b[0m\u001b[0m\n\u001b[1;32m    251\u001b[0m     \u001b[0;32mdef\u001b[0m \u001b[0m_init_from_cpp\u001b[0m\u001b[0;34m(\u001b[0m\u001b[0mself\u001b[0m\u001b[0;34m,\u001b[0m \u001b[0mcppV\u001b[0m\u001b[0;34m,\u001b[0m \u001b[0;34m**\u001b[0m\u001b[0mkwargs\u001b[0m\u001b[0;34m)\u001b[0m\u001b[0;34m:\u001b[0m\u001b[0;34m\u001b[0m\u001b[0m\n",
      "\u001b[0;32m/home/giulio/anaconda2/envs/matrix/lib/python2.7/site-packages/dolfin/functions/functionspace.pyc\u001b[0m in \u001b[0;36m_init_from_ufl\u001b[0;34m(self, mesh, element, constrained_domain)\u001b[0m\n\u001b[1;32m    216\u001b[0m \u001b[0;34m\u001b[0m\u001b[0m\n\u001b[1;32m    217\u001b[0m         \u001b[0;31m# Compile element and dofmap and construct corresponding dolfin objects\u001b[0m\u001b[0;34m\u001b[0m\u001b[0;34m\u001b[0m\u001b[0m\n\u001b[0;32m--> 218\u001b[0;31m         \u001b[0mdolfin_element\u001b[0m\u001b[0;34m,\u001b[0m \u001b[0mdolfin_dofmap\u001b[0m \u001b[0;34m=\u001b[0m \u001b[0m_compile_dolfin_element\u001b[0m\u001b[0;34m(\u001b[0m\u001b[0melement\u001b[0m\u001b[0;34m,\u001b[0m \u001b[0mmesh\u001b[0m\u001b[0;34m,\u001b[0m \u001b[0mconstrained_domain\u001b[0m\u001b[0;34m=\u001b[0m\u001b[0mconstrained_domain\u001b[0m\u001b[0;34m)\u001b[0m\u001b[0;34m\u001b[0m\u001b[0m\n\u001b[0m\u001b[1;32m    219\u001b[0m \u001b[0;34m\u001b[0m\u001b[0m\n\u001b[1;32m    220\u001b[0m         \u001b[0;31m# Initialize the cpp.FunctionSpace\u001b[0m\u001b[0;34m\u001b[0m\u001b[0;34m\u001b[0m\u001b[0m\n",
      "\u001b[0;32m/home/giulio/anaconda2/envs/matrix/lib/python2.7/site-packages/dolfin/functions/functionspace.pyc\u001b[0m in \u001b[0;36m_compile_dolfin_element\u001b[0;34m(element, mesh, constrained_domain)\u001b[0m\n\u001b[1;32m     80\u001b[0m \u001b[0;34m\u001b[0m\u001b[0m\n\u001b[1;32m     81\u001b[0m     \u001b[0;31m# JIT-compile element to get ufc_element and ufc_dofmap\u001b[0m\u001b[0;34m\u001b[0m\u001b[0;34m\u001b[0m\u001b[0m\n\u001b[0;32m---> 82\u001b[0;31m     \u001b[0mufc_element\u001b[0m\u001b[0;34m,\u001b[0m \u001b[0mufc_dofmap\u001b[0m \u001b[0;34m=\u001b[0m \u001b[0mjit\u001b[0m\u001b[0;34m(\u001b[0m\u001b[0melement\u001b[0m\u001b[0;34m,\u001b[0m \u001b[0mmpi_comm\u001b[0m\u001b[0;34m=\u001b[0m\u001b[0mmesh\u001b[0m\u001b[0;34m.\u001b[0m\u001b[0mmpi_comm\u001b[0m\u001b[0;34m(\u001b[0m\u001b[0;34m)\u001b[0m\u001b[0;34m)\u001b[0m\u001b[0;34m\u001b[0m\u001b[0m\n\u001b[0m\u001b[1;32m     83\u001b[0m \u001b[0;34m\u001b[0m\u001b[0m\n\u001b[1;32m     84\u001b[0m     \u001b[0mdolfin_element\u001b[0m \u001b[0;34m=\u001b[0m \u001b[0mcpp\u001b[0m\u001b[0;34m.\u001b[0m\u001b[0mFiniteElement\u001b[0m\u001b[0;34m(\u001b[0m\u001b[0mufc_element\u001b[0m\u001b[0;34m)\u001b[0m\u001b[0;34m\u001b[0m\u001b[0m\n",
      "\u001b[0;32m/home/giulio/anaconda2/envs/matrix/lib/python2.7/site-packages/dolfin/compilemodules/jit.pyc\u001b[0m in \u001b[0;36mmpi_jit\u001b[0;34m(*args, **kwargs)\u001b[0m\n\u001b[1;32m     68\u001b[0m         \u001b[0;31m# Just call JIT compiler when running in serial\u001b[0m\u001b[0;34m\u001b[0m\u001b[0;34m\u001b[0m\u001b[0m\n\u001b[1;32m     69\u001b[0m         \u001b[0;32mif\u001b[0m \u001b[0mMPI\u001b[0m\u001b[0;34m.\u001b[0m\u001b[0msize\u001b[0m\u001b[0;34m(\u001b[0m\u001b[0mmpi_comm\u001b[0m\u001b[0;34m)\u001b[0m \u001b[0;34m==\u001b[0m \u001b[0;36m1\u001b[0m\u001b[0;34m:\u001b[0m\u001b[0;34m\u001b[0m\u001b[0m\n\u001b[0;32m---> 70\u001b[0;31m             \u001b[0;32mreturn\u001b[0m \u001b[0mlocal_jit\u001b[0m\u001b[0;34m(\u001b[0m\u001b[0;34m*\u001b[0m\u001b[0margs\u001b[0m\u001b[0;34m,\u001b[0m \u001b[0;34m**\u001b[0m\u001b[0mkwargs\u001b[0m\u001b[0;34m)\u001b[0m\u001b[0;34m\u001b[0m\u001b[0m\n\u001b[0m\u001b[1;32m     71\u001b[0m \u001b[0;34m\u001b[0m\u001b[0m\n\u001b[1;32m     72\u001b[0m         \u001b[0;31m# Default status (0 == ok, 1 == fail)\u001b[0m\u001b[0;34m\u001b[0m\u001b[0;34m\u001b[0m\u001b[0m\n",
      "\u001b[0;32m/home/giulio/anaconda2/envs/matrix/lib/python2.7/site-packages/dolfin/compilemodules/jit.pyc\u001b[0m in \u001b[0;36mjit\u001b[0;34m(ufl_object, form_compiler_parameters, mpi_comm)\u001b[0m\n\u001b[1;32m    145\u001b[0m         cpp.dolfin_error(\"jit.py\",\n\u001b[1;32m    146\u001b[0m                          \u001b[0;34m\"perform just-in-time compilation of form\"\u001b[0m\u001b[0;34m,\u001b[0m\u001b[0;34m\u001b[0m\u001b[0m\n\u001b[0;32m--> 147\u001b[0;31m                          \"ffc.jit failed with message:\\n%s\" % (tb_text,))\n\u001b[0m\u001b[1;32m    148\u001b[0m \u001b[0;34m\u001b[0m\u001b[0m\n\u001b[1;32m    149\u001b[0m     \u001b[0;31m# Unpack result (ffc.jit returns different tuples based on input type)\u001b[0m\u001b[0;34m\u001b[0m\u001b[0;34m\u001b[0m\u001b[0m\n",
      "\u001b[0;32m/home/giulio/anaconda2/envs/matrix/lib/python2.7/site-packages/dolfin/cpp/common.pyc\u001b[0m in \u001b[0;36mdolfin_error\u001b[0;34m(location, task, reason)\u001b[0m\n\u001b[1;32m   2042\u001b[0m \u001b[0;34m\u001b[0m\u001b[0m\n\u001b[1;32m   2043\u001b[0m     \"\"\"\n\u001b[0;32m-> 2044\u001b[0;31m     \u001b[0;32mreturn\u001b[0m \u001b[0m_common\u001b[0m\u001b[0;34m.\u001b[0m\u001b[0mdolfin_error\u001b[0m\u001b[0;34m(\u001b[0m\u001b[0mlocation\u001b[0m\u001b[0;34m,\u001b[0m \u001b[0mtask\u001b[0m\u001b[0;34m,\u001b[0m \u001b[0mreason\u001b[0m\u001b[0;34m)\u001b[0m\u001b[0;34m\u001b[0m\u001b[0m\n\u001b[0m\u001b[1;32m   2045\u001b[0m \u001b[0;34m\u001b[0m\u001b[0m\n\u001b[1;32m   2046\u001b[0m \u001b[0;32mdef\u001b[0m \u001b[0mdeprecation\u001b[0m\u001b[0;34m(\u001b[0m\u001b[0mfeature\u001b[0m\u001b[0;34m,\u001b[0m \u001b[0mversion_deprecated\u001b[0m\u001b[0;34m,\u001b[0m \u001b[0mmessage\u001b[0m\u001b[0;34m)\u001b[0m\u001b[0;34m:\u001b[0m\u001b[0;34m\u001b[0m\u001b[0m\n",
      "\u001b[0;31mRuntimeError\u001b[0m: \n\n*** -------------------------------------------------------------------------\n*** DOLFIN encountered an error. If you are not able to resolve this issue\n*** using the information listed below, you can ask for help at\n***\n***     fenics-support@googlegroups.com\n***\n*** Remember to include the error message listed below and, if possible,\n*** include a *minimal* running example to reproduce the error.\n***\n*** -------------------------------------------------------------------------\n*** Error:   Unable to perform just-in-time compilation of form.\n*** Reason:  ffc.jit failed with message:\nTraceback (most recent call last):\n  File \"/home/giulio/anaconda2/envs/matrix/lib/python2.7/site-packages/dolfin/compilemodules/jit.py\", line 142, in jit\n    result = ffc.jit(ufl_object, parameters=p)\n  File \"/home/giulio/anaconda2/envs/matrix/lib/python2.7/site-packages/ffc/jitcompiler.py\", line 218, in jit\n    module = jit_build(ufl_object, module_name, parameters)\n  File \"/home/giulio/anaconda2/envs/matrix/lib/python2.7/site-packages/ffc/jitcompiler.py\", line 134, in jit_build\n    generate=jit_generate)\n  File \"/home/giulio/anaconda2/envs/matrix/lib/python2.7/site-packages/dijitso/jit.py\", line 167, in jit\n    header, source, dependencies = generate(jitable, name, signature, params[\"generator\"])\n  File \"/home/giulio/anaconda2/envs/matrix/lib/python2.7/site-packages/ffc/jitcompiler.py\", line 67, in jit_generate\n    prefix=module_name, parameters=parameters, jit=True)\n  File \"/home/giulio/anaconda2/envs/matrix/lib/python2.7/site-packages/ffc/compiler.py\", line 150, in compile_element\n    prefix, parameters, jit)\n  File \"/home/giulio/anaconda2/envs/matrix/lib/python2.7/site-packages/ffc/compiler.py\", line 190, in compile_ufl_objects\n    ir = compute_ir(analysis, prefix, parameters, jit)\n  File \"/home/giulio/anaconda2/envs/matrix/lib/python2.7/site-packages/ffc/representation.py\", line 171, in compute_ir\n    for e in elements]\n  File \"/home/giulio/anaconda2/envs/matrix/lib/python2.7/site-packages/ffc/representation.py\", line 203, in _compute_element_ir\n    fiat_element = create_element(ufl_element)\n  File \"/home/giulio/anaconda2/envs/matrix/lib/python2.7/site-packages/ffc/fiatinterface.py\", line 99, in create_element\n    element = _create_fiat_element(ufl_element)\n  File \"/home/giulio/anaconda2/envs/matrix/lib/python2.7/site-packages/ffc/fiatinterface.py\", line 196, in _create_fiat_element\n    element = ElementClass(fiat_cell, degree)\n  File \"/home/giulio/anaconda2/envs/matrix/lib/python2.7/site-packages/FIAT/lagrange.py\", line 56, in __init__\n    poly_set = polynomial_set.ONPolynomialSet(ref_el, degree)\n  File \"/home/giulio/anaconda2/envs/matrix/lib/python2.7/site-packages/FIAT/polynomial_set.py\", line 176, in __init__\n    dv = expansion_set.tabulate_derivatives(degree, pts)\n  File \"/home/giulio/anaconda2/envs/matrix/lib/python2.7/site-packages/FIAT/expansions.py\", line 262, in tabulate_derivatives\n    data = _tabulate_dpts(self._tabulate, 2, n, order, numpy.array(pts))\n  File \"/home/giulio/anaconda2/envs/matrix/lib/python2.7/site-packages/FIAT/expansions.py\", line 104, in _tabulate_dpts\n    phi.append(form_derivative(phi[-1]))\n  File \"/home/giulio/anaconda2/envs/matrix/lib/python2.7/site-packages/FIAT/expansions.py\", line 50, in form_derivative\n    out = [sympy.diff(F, X[j]) for j in range(D)]\n  File \"/home/giulio/anaconda2/envs/matrix/lib/python2.7/site-packages/sympy/core/function.py\", line 1993, in diff\n    return Derivative(f, *symbols, **kwargs)\n  File \"/home/giulio/anaconda2/envs/matrix/lib/python2.7/site-packages/sympy/core/function.py\", line 1117, in __new__\n    it cannot be differentiated.'''  1.577552e-320xpr))\nValueError: \nSince there are no variables in the expression [0, 0], it cannot be\ndifferentiated.\n.\n*** Where:   This error was encountered inside jit.py.\n*** Process: 0\n*** \n*** DOLFIN version: 2017.2.0\n*** Git changeset:  774aa9b05f5a21fcf3d1bd632e722933a05fdb45\n*** -------------------------------------------------------------------------\n"
     ]
    }
   ],
   "source": [
    "# Create mesh and define function space\n",
    "mesh = UnitSquareMesh(8, 8)\n",
    "V = FunctionSpace(mesh, \"Lagrange\", 1)\n",
    "\n",
    "# Define boundary condition\n",
    "u0 = Function(V)\n",
    "bc = DirichletBC(V, u0, \"x[0] < DOLFIN_EPS || x[0] > 1.0 - DOLFIN_EPS\")\n",
    "\n",
    "# Define variational problem\n",
    "u = TrialFunction(V)\n",
    "v = TestFunction(V)\n",
    "f = Expression(\"10*exp(-(pow(x[0] - 0.5, 2) + pow(x[1] - 0.5, 2)) / 0.02)\",\n",
    "               degree=1)\n",
    "g = Expression(\"sin(5*x[0])\", degree=1)\n",
    "a = inner(grad(u), grad(v))*dx()\n",
    "L = f*v*dx() + g*v*ds()\n",
    "\n",
    "# Define function for the solution\n",
    "u = Function(V)\n",
    "\n",
    "# Define goal functional (quantity of interest)\n",
    "M = u*dx()\n",
    "\n",
    "# Define error tolerance\n",
    "tol = 1.e-5\n",
    "\n",
    "# Solve equation a = L with respect to u and the given boundary\n",
    "# conditions, such that the estimated error (measured in M) is less\n",
    "# than tol\n",
    "problem = LinearVariationalProblem(a, L, u, bc)\n",
    "solver = AdaptiveLinearVariationalSolver(problem, M)\n",
    "solver.parameters[\"error_control\"][\"dual_variational_solver\"][\"linear_solver\"] = \"cg\"\n",
    "solver.parameters[\"error_control\"][\"dual_variational_solver\"][\"symmetric\"] = True\n",
    "solver.solve(tol)\n",
    "\n",
    "solver.summary()\n",
    "\n",
    "# Plot solution(s)\n",
    "plot(u.root_node(), title=\"Solution on initial mesh\")\n",
    "plot(u.leaf_node(), title=\"Solution on final mesh\")\n",
    "interactive()"
   ]
  },
  {
   "cell_type": "code",
   "execution_count": null,
   "metadata": {},
   "outputs": [],
   "source": []
  }
 ],
 "metadata": {
  "kernelspec": {
   "display_name": "Python 2",
   "language": "python",
   "name": "python2"
  },
  "language_info": {
   "codemirror_mode": {
    "name": "ipython",
    "version": 2
   },
   "file_extension": ".py",
   "mimetype": "text/x-python",
   "name": "python",
   "nbconvert_exporter": "python",
   "pygments_lexer": "ipython2",
   "version": "2.7.13"
  }
 },
 "nbformat": 4,
 "nbformat_minor": 2
}
