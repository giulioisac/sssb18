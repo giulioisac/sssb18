{
 "cells": [
  {
   "cell_type": "code",
   "execution_count": 1,
   "metadata": {
    "collapsed": false
   },
   "outputs": [],
   "source": [
    "import sympy as sym\n",
    "sym.init_printing()\n",
    "import warnings\n",
    "warnings.filterwarnings('ignore')\n",
    "\n",
    "lamda, lamda1, lamda2, Delta, tau, a, b, c, d, A, I, X, t, K1, K2, c1, c2 = sym.symbols('lamda, lamda1, lamda2, Delta, tau, a, b, c, d, A, I. X, t, K1, K2, c1, c2')"
   ]
  },
  {
   "cell_type": "markdown",
   "metadata": {},
   "source": [
    "<ls>\n",
    "<li>Given a matrix of coefficients of a system of autonomous differential equations with a single critical point at <b>X</b><sub>0</sub> = (0, 0) requires that the determinant is non-zero</li>\n",
    "</ls>"
   ]
  },
  {
   "cell_type": "code",
   "execution_count": 2,
   "metadata": {
    "collapsed": false
   },
   "outputs": [
    {
     "data": {
      "text/latex": [
       "$$\\left[\\begin{matrix}a & b\\\\c & d\\end{matrix}\\right]$$"
      ],
      "text/plain": [
       "⎡a  b⎤\n",
       "⎢    ⎥\n",
       "⎣c  d⎦"
      ]
     },
     "execution_count": 2,
     "metadata": {},
     "output_type": "execute_result"
    }
   ],
   "source": [
    "sym.Matrix([[a, b], [c, d]])"
   ]
  },
  {
   "cell_type": "code",
   "execution_count": 4,
   "metadata": {
    "collapsed": false
   },
   "outputs": [
    {
     "name": "stdout",
     "output_type": "stream",
     "text": [
      "Given the following determinant:\n"
     ]
    },
    {
     "data": {
      "image/png": "[encoded data removed]",
      "text/latex": [
       "$$\\Delta = a d - b c$$"
      ],
      "text/plain": [
       "Δ = a⋅d - b⋅c"
      ]
     },
     "execution_count": 4,
     "metadata": {},
     "output_type": "execute_result"
    }
   ],
   "source": [
    "print('Given the following determinant:')\n",
    "sym.Eq(Delta, a * d - b * c)"
   ]
  },
  {
   "cell_type": "code",
   "execution_count": 5,
   "metadata": {
    "collapsed": false
   },
   "outputs": [
    {
     "name": "stdout",
     "output_type": "stream",
     "text": [
      "The trace of the matrix is:\n"
     ]
    },
    {
     "data": {
      "image/png": "[encoded data removed]",
      "text/latex": [
       "$$\\tau = a + d$$"
      ],
      "text/plain": [
       "τ = a + d"
      ]
     },
     "execution_count": 5,
     "metadata": {},
     "output_type": "execute_result"
    }
   ],
   "source": [
    "print('The trace of the matrix is:')\n",
    "sym.Eq(tau, a + d)"
   ]
  },
  {
   "cell_type": "code",
   "execution_count": 6,
   "metadata": {
    "collapsed": false
   },
   "outputs": [
    {
     "name": "stdout",
     "output_type": "stream",
     "text": [
      "For the eigenvalue the determinant of\n"
     ]
    },
    {
     "data": {
      "image/png": "[encoded data removed]",
      "text/latex": [
       "$$A - I. \\lambda = 0$$"
      ],
      "text/plain": [
       "A - I.⋅λ = 0"
      ]
     },
     "execution_count": 6,
     "metadata": {},
     "output_type": "execute_result"
    }
   ],
   "source": [
    "print('For the eigenvalue the determinant of')\n",
    "sym.Eq(A - lamda * I, 0)"
   ]
  },
  {
   "cell_type": "code",
   "execution_count": 7,
   "metadata": {
    "collapsed": false
   },
   "outputs": [
    {
     "name": "stdout",
     "output_type": "stream",
     "text": [
      "i.e.\n"
     ]
    },
    {
     "data": {
      "text/latex": [
       "$$\\left[\\begin{matrix}a - \\lambda & b\\\\c & d - \\lambda\\end{matrix}\\right]$$"
      ],
      "text/plain": [
       "⎡a - λ    b  ⎤\n",
       "⎢            ⎥\n",
       "⎣  c    d - λ⎦"
      ]
     },
     "execution_count": 7,
     "metadata": {},
     "output_type": "execute_result"
    }
   ],
   "source": [
    "lA = sym.Matrix([[a - lamda, b], [c, d - lamda]])\n",
    "print('i.e.')\n",
    "lA"
   ]
  },
  {
   "cell_type": "code",
   "execution_count": 8,
   "metadata": {
    "collapsed": false
   },
   "outputs": [
    {
     "data": {
      "image/png": "[encoded data removed]",
      "text/latex": [
       "$$- b c + \\left(a - \\lambda\\right) \\left(d - \\lambda\\right) = 0$$"
      ],
      "text/plain": [
       "-b⋅c + (a - λ)⋅(d - λ) = 0"
      ]
     },
     "execution_count": 8,
     "metadata": {},
     "output_type": "execute_result"
    }
   ],
   "source": [
    "sym.Eq((a - lamda) * (d - lamda) - b * c, 0)"
   ]
  },
  {
   "cell_type": "code",
   "execution_count": 9,
   "metadata": {
    "collapsed": false
   },
   "outputs": [
    {
     "data": {
      "image/png": "[encoded data removed]",
      "text/latex": [
       "$$a d - a \\lambda - b c - d \\lambda + \\lambda^{2} = 0$$"
      ],
      "text/plain": [
       "                         2    \n",
       "a⋅d - a⋅λ - b⋅c - d⋅λ + λ  = 0"
      ]
     },
     "execution_count": 9,
     "metadata": {},
     "output_type": "execute_result"
    }
   ],
   "source": [
    "sym.Eq(a * d - a * lamda - d * lamda + lamda ** 2 - b * c, 0)"
   ]
  },
  {
   "cell_type": "code",
   "execution_count": 10,
   "metadata": {
    "collapsed": false
   },
   "outputs": [
    {
     "data": {
      "image/png": "[encoded data removed]",
      "text/latex": [
       "$$a d - b c + \\lambda^{2} - \\lambda \\left(a + d\\right) = 0$$"
      ],
      "text/plain": [
       "             2                \n",
       "a⋅d - b⋅c + λ  - λ⋅(a + d) = 0"
      ]
     },
     "execution_count": 10,
     "metadata": {},
     "output_type": "execute_result"
    }
   ],
   "source": [
    "sym.Eq(lamda ** 2 - lamda * (a + d) + (a * d - b * c), 0)"
   ]
  },
  {
   "cell_type": "code",
   "execution_count": 11,
   "metadata": {
    "collapsed": false
   },
   "outputs": [
    {
     "data": {
      "image/png": "[encoded data removed]",
      "text/latex": [
       "$$\\Delta + \\lambda^{2} - \\lambda \\tau = 0$$"
      ],
      "text/plain": [
       "     2          \n",
       "Δ + λ  - λ⋅τ = 0"
      ]
     },
     "execution_count": 11,
     "metadata": {},
     "output_type": "execute_result"
    }
   ],
   "source": [
    "sym.Eq(lamda ** 2 - tau * lamda + Delta, 0)"
   ]
  },
  {
   "cell_type": "markdown",
   "metadata": {},
   "source": [
    "Solving this simple quadratic equation leaves:"
   ]
  },
  {
   "cell_type": "code",
   "execution_count": 12,
   "metadata": {
    "collapsed": false
   },
   "outputs": [
    {
     "data": {
      "image/png": "[encoded data removed]",
      "text/latex": [
       "$$\\lambda_{1} = \\frac{\\tau}{2} + \\frac{1}{2} \\sqrt{- 4 \\Delta + \\tau^{2}}$$"
      ],
      "text/plain": [
       "            ___________\n",
       "           ╱         2 \n",
       "     τ   ╲╱  -4⋅Δ + τ  \n",
       "λ₁ = ─ + ──────────────\n",
       "     2         2       "
      ]
     },
     "execution_count": 12,
     "metadata": {},
     "output_type": "execute_result"
    }
   ],
   "source": [
    "sym.Eq(lamda1, (tau + sym.sqrt(tau ** 2 - 4 * Delta)) / 2)"
   ]
  },
  {
   "cell_type": "code",
   "execution_count": 13,
   "metadata": {
    "collapsed": false
   },
   "outputs": [
    {
     "data": {
      "image/png": "[encoded data removed]",
      "text/latex": [
       "$$\\lambda_{2} = \\frac{\\tau}{2} - \\frac{1}{2} \\sqrt{- 4 \\Delta + \\tau^{2}}$$"
      ],
      "text/plain": [
       "            ___________\n",
       "           ╱         2 \n",
       "     τ   ╲╱  -4⋅Δ + τ  \n",
       "λ₂ = ─ - ──────────────\n",
       "     2         2       "
      ]
     },
     "execution_count": 13,
     "metadata": {},
     "output_type": "execute_result"
    }
   ],
   "source": [
    "sym.Eq(lamda2, (tau - sym.sqrt(tau ** 2 - 4 * Delta)) / 2)"
   ]
  },
  {
   "cell_type": "markdown",
   "metadata": {},
   "source": [
    "<ul>\n",
    "<li>This states that the eigenvalues are half times the trace plus/minus a half times the square root of the difference of the square of the trace and four times the determinant</li>\n",
    "<li>This means that the roots of the trace square minus four times the determinant determines the result</li>\n",
    "</ul>"
   ]
  },
  {
   "cell_type": "markdown",
   "metadata": {},
   "source": [
    "<h2>Real distinct eigenvalues</h2>\n",
    "<p>\n",
    "Occurs when:"
   ]
  },
  {
   "cell_type": "code",
   "execution_count": 14,
   "metadata": {
    "collapsed": false
   },
   "outputs": [
    {
     "data": {
      "image/png": "[encoded data removed]",
      "text/latex": [
       "$$- 4 \\Delta + \\tau^{2} > 0$$"
      ],
      "text/plain": [
       "        2    \n",
       "-4⋅Δ + τ  > 0"
      ]
     },
     "execution_count": 14,
     "metadata": {},
     "output_type": "execute_result"
    }
   ],
   "source": [
    "tau ** 2 - 4 * Delta > 0"
   ]
  },
  {
   "cell_type": "markdown",
   "metadata": {},
   "source": [
    "The general solution is:<br>\n",
    "<b>X</b>(<i>t</i>) = c<sub>1</sub><b>K</b><sub>1</sub><i>e</i><sup>&#955;<sub>1</sub><i>t</i></sup> + c<sub>2</sub><b>K</b><sub>2</sub><i>e</i><sup>&#955;<sub>2</sub><i>t</i></sup>\n",
    "<p></p>\n",
    "Which can also be written as:<br>\n",
    "<b>X</b>(<i>t</i>) = <i>e</i><sup>&#955;<sub>1</sub><i>t</i></sup>[c<sub>1</sub><b>K</b><sub>1</sub> + c<sub>2</sub><b>K</b><sub>2</sub><i>e</i><sup>(&#955;<sub>2</sub> - &#955;<sub>1</sub>)<i>t</i></sup>]"
   ]
  },
  {
   "cell_type": "markdown",
   "metadata": {},
   "source": [
    "<ul>\n",
    "<li>Three possibilities occur\n",
    "<ul><li>A stable node if both eigenvalues are negative</li>\n",
    "<li>An unstable node if both eigenvalues are positive</li>\n",
    "<li>A saddle point if the eigenvalues are of opposite sign</li></ul>\n",
    "</ul>"
   ]
  },
  {
   "cell_type": "markdown",
   "metadata": {},
   "source": [
    "<h3>A stable node</h3>\n",
    "<p></p>\n",
    "<ul>\n",
    "<li>&#916; > 0</li>\n",
    "<li>&#964; < 0</li>\n",
    "</ul>"
   ]
  },
  {
   "cell_type": "markdown",
   "metadata": {},
   "source": [
    "Considering<br>\n",
    "<b>X</b>(<i>t</i>) = c<sub>1</sub><b>K</b><sub>1</sub><i>e</i><sup>&#955;<sub>1</sub><i>t</i></sup> + c<sub>2</sub><b>K</b><sub>2</sub><i>e</i><sup>&#955;<sub>2</sub><i>t</i></sup>\n",
    "<p></p>\n",
    "With both eigenvalues being negative would result in <b>X</b>(<i>t</i>) approaching zero as <i>t</i> goes to infinity"
   ]
  },
  {
   "cell_type": "markdown",
   "metadata": {},
   "source": [
    "<h3>A stable node</h3>\n",
    "<p></p>\n",
    "<ul>\n",
    "<li>&#916; > 0</li>\n",
    "<li>&#964; < 0</li>\n",
    "</ul>"
   ]
  },
  {
   "cell_type": "markdown",
   "metadata": {},
   "source": [
    "Now <b>X</b>(<i>t</i>) will approach infinity as <i>t</i> approaches infinity"
   ]
  },
  {
   "cell_type": "markdown",
   "metadata": {},
   "source": [
    "<h3>A stable node</h3>\n",
    "<p></p>\n",
    "<ul>\n",
    "<li>&#916; > 0</li>\n",
    "</ul>"
   ]
  },
  {
   "cell_type": "markdown",
   "metadata": {},
   "source": [
    "<ul>\n",
    "<li>All depends on the values for c1 and c2 and which eigenvalue is positive and which is negative</li>\n",
    "<li>Thus a critical point can approach zero, but also serves as asymptotic line</li>\n",
    "</ul>"
   ]
  },
  {
   "cell_type": "code",
   "execution_count": null,
   "metadata": {
    "collapsed": false
   },
   "outputs": [],
   "source": []
  }
 ],
 "metadata": {
  "kernelspec": {
   "display_name": "Python 3",
   "language": "python",
   "name": "python3"
  },
  "language_info": {
   "codemirror_mode": {
    "name": "ipython",
    "version": 3
   },
   "file_extension": ".py",
   "mimetype": "text/x-python",
   "name": "python",
   "nbconvert_exporter": "python",
   "pygments_lexer": "ipython3",
   "version": "3.5.1"
  }
 },
 "nbformat": 4,
 "nbformat_minor": 0
}
