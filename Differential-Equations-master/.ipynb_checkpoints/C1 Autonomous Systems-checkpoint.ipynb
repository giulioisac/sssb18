{
 "cells": [
  {
   "cell_type": "code",
   "execution_count": 1,
   "metadata": {
    "collapsed": false
   },
   "outputs": [],
   "source": [
    "import warnings\n",
    "warnings.filterwarnings('ignore')"
   ]
  },
  {
   "cell_type": "markdown",
   "metadata": {},
   "source": [
    "<h1>Autonomous Systems</h1>"
   ]
  },
  {
   "cell_type": "markdown",
   "metadata": {},
   "source": [
    "<h2>The plane outonomous system</h2>\n",
    "<ls>\n",
    "    <li>Consider the position column vector <b><i>X</i></b><i>(t)</i></li>\n",
    "</ls>"
   ]
  },
  {
   "cell_type": "code",
   "execution_count": 2,
   "metadata": {
    "collapsed": false
   },
   "outputs": [
    {
     "data": {
      "image/png": "[encoded data removed]",
      "text/plain": [
       "<IPython.core.display.Image object>"
      ]
     },
     "execution_count": 2,
     "metadata": {},
     "output_type": "execute_result"
    }
   ],
   "source": [
    "from IPython.core.display import Image\n",
    "Image(filename = 'Fig1.png')"
   ]
  },
  {
   "cell_type": "markdown",
   "metadata": {},
   "source": [
    "<ls>\n",
    "    <li>As <i>t</i> increases the position of a particle changes</li>\n",
    "</ls>"
   ]
  },
  {
   "cell_type": "markdown",
   "metadata": {},
   "source": [
    "<ls>\n",
    "    <li>If <i>n = 2</i> and considering the first derivative of <b><i>X</i></b><i>(t)</i> as:</li>\n",
    "</ls>"
   ]
  },
  {
   "cell_type": "code",
   "execution_count": 3,
   "metadata": {
    "collapsed": false
   },
   "outputs": [
    {
     "data": {
      "image/png": "[encoded data removed]",
      "text/plain": [
       "<IPython.core.display.Image object>"
      ]
     },
     "execution_count": 3,
     "metadata": {},
     "output_type": "execute_result"
    }
   ],
   "source": [
    "Image(filename = 'Fig2.png')"
   ]
  },
  {
   "cell_type": "markdown",
   "metadata": {},
   "source": [
    "<ls>\n",
    "    <li>Then, if both <i>P</i> and <i>Q</i> have <i>x</i> and <i>y</i> functions <u>independant</u> of <i>t</i>, <i><b>V</b>(x, y)</i> represents a vector field</li>\n",
    "</ls>"
   ]
  },
  {
   "cell_type": "code",
   "execution_count": 4,
   "metadata": {
    "collapsed": false
   },
   "outputs": [
    {
     "data": {
      "image/png": "[encoded data removed]",
      "text/plain": [
       "<IPython.core.display.Image object>"
      ]
     },
     "execution_count": 4,
     "metadata": {},
     "output_type": "execute_result"
    }
   ],
   "source": [
    "Image(filename = 'Fig3.png')"
   ]
  },
  {
   "cell_type": "markdown",
   "metadata": {},
   "source": [
    "<ls>\n",
    "    <li>Calculating <i><b>X</b>(t)</i> from <i><b>X</b>'(t)</i> and with an initial <i><b>X</b>(0) = X<sub>0</sub></i> a path can be calculated</li>\n",
    "    <li>This can be imagined as a particle dropped in the field and observing it's path in time</li>\n",
    "</ls>"
   ]
  },
  {
   "cell_type": "markdown",
   "metadata": {},
   "source": [
    "There are three types of solutions:\n",
    "<ls>\n",
    "    <li>Setting both <i>P</i> and <i>Q</i> equal to zero calculates a point / points where a particle placed will not move</li>\n",
    "    <li>The solution <i><b>X</b>(t)</i> defines an arc (remembering that it cannot cross itself)</li>\n",
    "    <li>A periodic solution where for a defined period <i>p</i>, <i><b>X</b>(t + p) = <b>X</b>(t)</i></li>\n",
    "</ls>"
   ]
  },
  {
   "cell_type": "markdown",
   "metadata": {},
   "source": [
    "<ls>\n",
    "    <li><h3>Calculating critical points of a system of autonomous equations</h3></li>\n",
    "    <li>This is done by setting the right-hand side of the equations equal to zero<li>\n",
    "</ls>"
   ]
  },
  {
   "cell_type": "code",
   "execution_count": 5,
   "metadata": {
    "collapsed": true
   },
   "outputs": [],
   "source": [
    "import sympy as sp\n",
    "\n",
    "sp.init_printing()\n",
    "\n",
    "x, y, t = sp.symbols('x y t')"
   ]
  },
  {
   "cell_type": "code",
   "execution_count": 6,
   "metadata": {
    "collapsed": true
   },
   "outputs": [],
   "source": [
    "eq1 = sp.Eq(sp.Derivative(x, t), -x + y)\n",
    "eq2 = sp.Eq(sp.Derivative(y, t), x - y)"
   ]
  },
  {
   "cell_type": "code",
   "execution_count": 7,
   "metadata": {
    "collapsed": false
   },
   "outputs": [
    {
     "data": {
      "image/png": "[encoded data removed]",
      "text/latex": [
       "$$\\frac{d}{d t} x = - x + y$$"
      ],
      "text/plain": [
       "d             \n",
       "──(x) = -x + y\n",
       "dt            "
      ]
     },
     "execution_count": 7,
     "metadata": {},
     "output_type": "execute_result"
    }
   ],
   "source": [
    "eq1"
   ]
  },
  {
   "cell_type": "code",
   "execution_count": 8,
   "metadata": {
    "collapsed": false
   },
   "outputs": [
    {
     "data": {
      "image/png": "[encoded data removed]",
      "text/latex": [
       "$$\\frac{d}{d t} y = x - y$$"
      ],
      "text/plain": [
       "d            \n",
       "──(y) = x - y\n",
       "dt           "
      ]
     },
     "execution_count": 8,
     "metadata": {},
     "output_type": "execute_result"
    }
   ],
   "source": [
    "eq2"
   ]
  },
  {
   "cell_type": "code",
   "execution_count": 9,
   "metadata": {
    "collapsed": false
   },
   "outputs": [
    {
     "data": {
      "image/png": "[encoded data removed]",
      "text/latex": [
       "$$- x + y = 0$$"
      ],
      "text/plain": [
       "-x + y = 0"
      ]
     },
     "execution_count": 9,
     "metadata": {},
     "output_type": "execute_result"
    }
   ],
   "source": [
    "sp.Eq(-x + y, 0)"
   ]
  },
  {
   "cell_type": "code",
   "execution_count": 10,
   "metadata": {
    "collapsed": false
   },
   "outputs": [
    {
     "data": {
      "image/png": "[encoded data removed]",
      "text/latex": [
       "$$x - y = 0$$"
      ],
      "text/plain": [
       "x - y = 0"
      ]
     },
     "execution_count": 10,
     "metadata": {},
     "output_type": "execute_result"
    }
   ],
   "source": [
    "sp.Eq(x - y, 0)"
   ]
  },
  {
   "cell_type": "markdown",
   "metadata": {},
   "source": [
    "<ls>\n",
    "    <li>It is simple to see that:</li>\n",
    "</ls>"
   ]
  },
  {
   "cell_type": "code",
   "execution_count": 11,
   "metadata": {
    "collapsed": false
   },
   "outputs": [
    {
     "data": {
      "image/png": "[encoded data removed]",
      "text/latex": [
       "$$x = y$$"
      ],
      "text/plain": [
       "x = y"
      ]
     },
     "execution_count": 11,
     "metadata": {},
     "output_type": "execute_result"
    }
   ],
   "source": [
    "sp.Eq(x, y)"
   ]
  },
  {
   "cell_type": "markdown",
   "metadata": {},
   "source": [
    "<ls>\n",
    "    <li>This represents a line</li>\n",
    "    <li>A particle placed anywhere on this line would not move in time</li>\n",
    "</ls>"
   ]
  },
  {
   "cell_type": "markdown",
   "metadata": {},
   "source": [
    "<ls>\n",
    "<li><h3>Example problem</h3></li>\n",
    "    <li>Sketch the graph of the following function for <i><b>X</b>(0) = (2, 0)</i></li>\n",
    "</ls>"
   ]
  },
  {
   "cell_type": "code",
   "execution_count": 12,
   "metadata": {
    "collapsed": false
   },
   "outputs": [
    {
     "data": {
      "image/png": "[encoded data removed]",
      "text/latex": [
       "$$\\left ( \\frac{d}{d t} x = 2 x + 8 y, \\quad \\frac{d}{d t} y = - x - 2 y\\right )$$"
      ],
      "text/plain": [
       "⎛d                  d               ⎞\n",
       "⎜──(x) = 2⋅x + 8⋅y, ──(y) = -x - 2⋅y⎟\n",
       "⎝dt                 dt              ⎠"
      ]
     },
     "execution_count": 12,
     "metadata": {},
     "output_type": "execute_result"
    }
   ],
   "source": [
    "sp.Eq(sp.Derivative(x, t), 2 * x + 8 * y), sp.Eq(sp.Derivative(y, t), -x - 2 * y)"
   ]
  },
  {
   "cell_type": "markdown",
   "metadata": {},
   "source": [
    "<ls>\n",
    "    <li>First make a matrix of coefficients</li>\n",
    "</ls>"
   ]
  },
  {
   "cell_type": "code",
   "execution_count": 13,
   "metadata": {
    "collapsed": false
   },
   "outputs": [
    {
     "data": {
      "text/latex": [
       "$$\\left[\\begin{matrix}2.0 & 8.0\\\\-1.0 & -2.0\\end{matrix}\\right]$$"
      ],
      "text/plain": [
       "⎡2.0   8.0 ⎤\n",
       "⎢          ⎥\n",
       "⎣-1.0  -2.0⎦"
      ]
     },
     "execution_count": 13,
     "metadata": {},
     "output_type": "execute_result"
    }
   ],
   "source": [
    "A = sp.Matrix([[2., 8.], [-1., -2.]])\n",
    "A"
   ]
  },
  {
   "cell_type": "markdown",
   "metadata": {},
   "source": [
    "<ls>\n",
    "    <li>Calculate the eigenvalues</li>\n",
    "</ls>"
   ]
  },
  {
   "cell_type": "code",
   "execution_count": 14,
   "metadata": {
    "collapsed": false
   },
   "outputs": [
    {
     "data": {
      "image/png": "[encoded data removed]",
      "text/latex": [
       "$$\\left \\{ - 2 i : 1, \\quad 2 i : 1\\right \\}$$"
      ],
      "text/plain": [
       "{-2⋅ⅈ: 1, 2⋅ⅈ: 1}"
      ]
     },
     "execution_count": 14,
     "metadata": {},
     "output_type": "execute_result"
    }
   ],
   "source": [
    "sp.Matrix(A).eigenvals()"
   ]
  },
  {
   "cell_type": "markdown",
   "metadata": {},
   "source": [
    "<ls>\n",
    "    <li>Using the second eigeinvalue</li>\n",
    "</ls>"
   ]
  },
  {
   "cell_type": "code",
   "execution_count": 15,
   "metadata": {
    "collapsed": true
   },
   "outputs": [],
   "source": [
    "alpha, beta, tau = sp.symbols('alpha beta tau')"
   ]
  },
  {
   "cell_type": "code",
   "execution_count": 16,
   "metadata": {
    "collapsed": false
   },
   "outputs": [
    {
     "data": {
      "image/png": "[encoded data removed]",
      "text/latex": [
       "$$\\left ( \\alpha = 0, \\quad \\beta = 2\\right )$$"
      ],
      "text/plain": [
       "(α = 0, β = 2)"
      ]
     },
     "execution_count": 16,
     "metadata": {},
     "output_type": "execute_result"
    }
   ],
   "source": [
    "sp.Eq(alpha, 0), sp.Eq(beta, 2)"
   ]
  },
  {
   "cell_type": "code",
   "execution_count": 17,
   "metadata": {
    "collapsed": false
   },
   "outputs": [
    {
     "data": {
      "text/latex": [
       "$$\\left [ \\left ( - 2.0 i, \\quad 1, \\quad \\left [ \\left[\\begin{matrix}-2.0 + 2.0 i\\\\1.0\\end{matrix}\\right]\\right ]\\right ), \\quad \\left ( 2.0 i, \\quad 1, \\quad \\left [ \\left[\\begin{matrix}-2.0 - 2.0 i\\\\1.0\\end{matrix}\\right]\\right ]\\right )\\right ]$$"
      ],
      "text/plain": [
       "⎡⎛-2.0⋅ⅈ, 1, ⎡⎡-2.0 + 2.0⋅ⅈ⎤⎤⎞, ⎛2.0⋅ⅈ, 1, ⎡⎡-2.0 - 2.0⋅ⅈ⎤⎤⎞⎤\n",
       "⎢⎜           ⎢⎢            ⎥⎥⎟  ⎜          ⎢⎢            ⎥⎥⎟⎥\n",
       "⎣⎝           ⎣⎣    1.0     ⎦⎦⎠  ⎝          ⎣⎣    1.0     ⎦⎦⎠⎦"
      ]
     },
     "execution_count": 17,
     "metadata": {},
     "output_type": "execute_result"
    }
   ],
   "source": [
    "sp.Matrix(A).eigenvects()"
   ]
  },
  {
   "cell_type": "code",
   "execution_count": 17,
   "metadata": {
    "collapsed": true
   },
   "outputs": [],
   "source": []
  }
 ],
 "metadata": {
  "kernelspec": {
   "display_name": "Python 3",
   "language": "python",
   "name": "python3"
  },
  "language_info": {
   "codemirror_mode": {
    "name": "ipython",
    "version": 3
   },
   "file_extension": ".py",
   "mimetype": "text/x-python",
   "name": "python",
   "nbconvert_exporter": "python",
   "pygments_lexer": "ipython3",
   "version": "3.5.1"
  }
 },
 "nbformat": 4,
 "nbformat_minor": 0
}
