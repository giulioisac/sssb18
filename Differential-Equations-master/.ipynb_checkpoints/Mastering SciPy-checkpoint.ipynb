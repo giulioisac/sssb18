{
 "cells": [
  {
   "cell_type": "code",
   "execution_count": 5,
   "metadata": {
    "collapsed": true
   },
   "outputs": [],
   "source": [
    "import sympy as sym\n",
    "from sympy.solvers import ode\n",
    "import numpy as np\n",
    "import scipy as sp\n",
    "import matplotlib.pyplot as plt\n",
    "%matplotlib inline\n",
    "sym.init_printing()"
   ]
  },
  {
   "cell_type": "code",
   "execution_count": 2,
   "metadata": {
    "collapsed": true
   },
   "outputs": [],
   "source": [
    "t = sym.symbols('t')\n",
    "f = sym.Function(\"f\")"
   ]
  },
  {
   "cell_type": "code",
   "execution_count": 3,
   "metadata": {
    "collapsed": false
   },
   "outputs": [
    {
     "data": {
      "image/png": "[encoded data removed]",
      "text/latex": [
       "$$- f{\\left (t \\right )} + \\frac{d}{d t} f{\\left (t \\right )}$$"
      ],
      "text/plain": [
       "        d       \n",
       "-f(t) + ──(f(t))\n",
       "        dt      "
      ]
     },
     "execution_count": 3,
     "metadata": {},
     "output_type": "execute_result"
    }
   ],
   "source": [
    "eq1 = f(t).diff(t) - f(t)\n",
    "eq1"
   ]
  },
  {
   "cell_type": "code",
   "execution_count": 6,
   "metadata": {
    "collapsed": false
   },
   "outputs": [
    {
     "data": {
      "text/plain": [
       "('separable',\n",
       " '1st_exact',\n",
       " '1st_linear',\n",
       " 'almost_linear',\n",
       " '1st_power_series',\n",
       " 'lie_group',\n",
       " 'nth_linear_constant_coeff_homogeneous',\n",
       " 'separable_Integral',\n",
       " '1st_exact_Integral',\n",
       " '1st_linear_Integral',\n",
       " 'almost_linear_Integral')"
      ]
     },
     "execution_count": 6,
     "metadata": {},
     "output_type": "execute_result"
    }
   ],
   "source": [
    "ode.classify_ode(eq1)"
   ]
  },
  {
   "cell_type": "code",
   "execution_count": 7,
   "metadata": {
    "collapsed": false
   },
   "outputs": [
    {
     "data": {
      "image/png": "[encoded data removed]",
      "text/latex": [
       "$$f{\\left (t \\right )} = C_{1} e^{t}$$"
      ],
      "text/plain": [
       "           t\n",
       "f(t) = C₁⋅ℯ "
      ]
     },
     "execution_count": 7,
     "metadata": {},
     "output_type": "execute_result"
    }
   ],
   "source": [
    "ode.dsolve(eq1, hint = \"separable\")"
   ]
  },
  {
   "cell_type": "code",
   "execution_count": 11,
   "metadata": {
    "collapsed": false
   },
   "outputs": [
    {
     "data": {
      "image/png": "[encoded data removed]",
      "text/latex": [
       "$$f{\\left (t \\right )} = C_{1} + C_{1} t + \\frac{C_{1} t^{2}}{2} + \\frac{C_{1} t^{3}}{6} + \\frac{C_{1} t^{4}}{24} + \\frac{C_{1} t^{5}}{120} + \\frac{C_{1} t^{6}}{720} + \\frac{C_{1} t^{7}}{5040} + \\frac{C_{1} t^{8}}{40320} + \\frac{C_{1} t^{9}}{362880} + \\mathcal{O}\\left(t^{10}\\right)$$"
      ],
      "text/plain": [
       "                       2       3       4       5       6       7       8      \n",
       "                   C₁⋅t    C₁⋅t    C₁⋅t    C₁⋅t    C₁⋅t    C₁⋅t    C₁⋅t    C₁⋅\n",
       "f(t) = C₁ + C₁⋅t + ───── + ───── + ───── + ───── + ───── + ───── + ───── + ───\n",
       "                     2       6       24     120     720     5040   40320   362\n",
       "\n",
       " 9          \n",
       "t      ⎛ 10⎞\n",
       "─── + O⎝t  ⎠\n",
       "880         "
      ]
     },
     "execution_count": 11,
     "metadata": {},
     "output_type": "execute_result"
    }
   ],
   "source": [
    "ode.dsolve(eq1, hint = \"1st_power_series\", n = 10, x0 = 0.0)"
   ]
  },
  {
   "cell_type": "code",
   "execution_count": 12,
   "metadata": {
    "collapsed": false
   },
   "outputs": [
    {
     "data": {
      "image/png": "[encoded data removed]",
      "text/latex": [
       "$$- 3 t f^{0.75}{\\left (t \\right )} + t \\frac{d}{d t} f{\\left (t \\right )} + 6 f{\\left (t \\right )}$$"
      ],
      "text/plain": [
       "       0.75        d                \n",
       "- 3⋅t⋅f    (t) + t⋅──(f(t)) + 6⋅f(t)\n",
       "                   dt               "
      ]
     },
     "execution_count": 12,
     "metadata": {},
     "output_type": "execute_result"
    }
   ],
   "source": [
    "eq2 = t * f(t).diff(t) + 6 * f(t) - 3 * t * f(t)**0.75\n",
    "eq2"
   ]
  },
  {
   "cell_type": "code",
   "execution_count": 13,
   "metadata": {
    "collapsed": false
   },
   "outputs": [
    {
     "data": {
      "text/plain": [
       "('Bernoulli', 'lie_group', 'Bernoulli_Integral')"
      ]
     },
     "execution_count": 13,
     "metadata": {},
     "output_type": "execute_result"
    }
   ],
   "source": [
    "ode.classify_ode(eq2)"
   ]
  },
  {
   "cell_type": "code",
   "execution_count": 14,
   "metadata": {
    "collapsed": false
   },
   "outputs": [
    {
     "data": {
      "image/png": "[encoded data removed]",
      "text/latex": [
       "$$f{\\left (t \\right )} = \\left(\\frac{1}{t^{1.5}} \\left(C_{1} + 0.3 t^{2.5}\\right)\\right)^{4.0}$$"
      ],
      "text/plain": [
       "                              4.0\n",
       "       ⎛ -1.5 ⎛          2.5⎞⎞   \n",
       "f(t) = ⎝t    ⋅⎝C₁ + 0.3⋅t   ⎠⎠   "
      ]
     },
     "execution_count": 14,
     "metadata": {},
     "output_type": "execute_result"
    }
   ],
   "source": [
    "ode.dsolve(eq2, hint = \"Bernoulli\")"
   ]
  },
  {
   "cell_type": "code",
   "execution_count": 15,
   "metadata": {
    "collapsed": false
   },
   "outputs": [
    {
     "data": {
      "image/png": "[encoded data removed]",
      "text/latex": [
       "$$f{\\left (t \\right )} = \\frac{1}{t^{6}} 6.25 \\cdot 10^{-6} \\left(C_{1} - 6.0 t^{2.5}\\right)^{4}$$"
      ],
      "text/plain": [
       "                              4\n",
       "               ⎛          2.5⎞ \n",
       "       6.25e-6⋅⎝C₁ - 6.0⋅t   ⎠ \n",
       "f(t) = ────────────────────────\n",
       "                   6           \n",
       "                  t            "
      ]
     },
     "execution_count": 15,
     "metadata": {},
     "output_type": "execute_result"
    }
   ],
   "source": [
    "ode.dsolve(eq2, hint = \"lie_group\")"
   ]
  },
  {
   "cell_type": "code",
   "execution_count": null,
   "metadata": {
    "collapsed": true
   },
   "outputs": [],
   "source": [
    "Mastering SciPy"
   ]
  }
 ],
 "metadata": {
  "kernelspec": {
   "display_name": "Python 3",
   "language": "python",
   "name": "python3"
  },
  "language_info": {
   "codemirror_mode": {
    "name": "ipython",
    "version": 3
   },
   "file_extension": ".py",
   "mimetype": "text/x-python",
   "name": "python",
   "nbconvert_exporter": "python",
   "pygments_lexer": "ipython3",
   "version": "3.5.1"
  }
 },
 "nbformat": 4,
 "nbformat_minor": 0
}
